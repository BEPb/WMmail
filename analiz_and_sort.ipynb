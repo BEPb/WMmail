{
  "nbformat": 4,
  "nbformat_minor": 0,
  "metadata": {
    "colab": {
      "name": "Untitled1.ipynb",
      "provenance": [],
      "authorship_tag": "ABX9TyPHQd/Xx3GG4qRu5vFSwuQn",
      "include_colab_link": true
    },
    "kernelspec": {
      "name": "python3",
      "display_name": "Python 3"
    },
    "language_info": {
      "name": "python"
    }
  },
  "cells": [
    {
      "cell_type": "markdown",
      "metadata": {
        "id": "view-in-github",
        "colab_type": "text"
      },
      "source": [
        "<a href=\"https://colab.research.google.com/github/BEPb/WMmail/blob/master/analiz_and_sort.ipynb\" target=\"_parent\"><img src=\"https://colab.research.google.com/assets/colab-badge.svg\" alt=\"Open In Colab\"/></a>"
      ]
    },
    {
      "cell_type": "code",
      "metadata": {
        "id": "YD-Z7sQBkZbH"
      },
      "source": [
        "Файл тренировки нейронной сети python\n",
        "Импорт данных\n",
        "\n",
        "!git clone https://github.com/BEPb/WMmail.git"
      ],
      "execution_count": null,
      "outputs": []
    },
    {
      "cell_type": "code",
      "metadata": {
        "colab": {
          "base_uri": "https://localhost:8080/"
        },
        "id": "VviKn7oUk7iz",
        "outputId": "ec15e454-028d-4346-d6a0-0bf051baab7d"
      },
      "source": [
        "%cd /content/\n",
        "!pwd\n",
        "!rm -r /content/WMmail  # очистка перед клонированием\n",
        "\n",
        "!git clone https://github.com/BEPb/WMmail.git\n",
        "#!ls"
      ],
      "execution_count": 10,
      "outputs": [
        {
          "output_type": "stream",
          "text": [
            "/content\n",
            "/content\n",
            "Cloning into 'WMmail'...\n",
            "remote: Enumerating objects: 23171, done.\u001b[K\n",
            "remote: Counting objects: 100% (23171/23171), done.\u001b[K\n",
            "remote: Compressing objects: 100% (23111/23111), done.\u001b[K\n",
            "remote: Total 23171 (delta 101), reused 23123 (delta 53), pack-reused 0\n",
            "Receiving objects: 100% (23171/23171), 97.79 MiB | 23.62 MiB/s, done.\n",
            "Resolving deltas: 100% (101/101), done.\n",
            "Checking out files: 100% (23009/23009), done.\n"
          ],
          "name": "stdout"
        }
      ]
    },
    {
      "cell_type": "markdown",
      "metadata": {
        "id": "Jqg5SWdkllVl"
      },
      "source": [
        "Переходим в клонированную дирректорию"
      ]
    },
    {
      "cell_type": "code",
      "metadata": {
        "colab": {
          "base_uri": "https://localhost:8080/"
        },
        "id": "d3b7B1WmlsNz",
        "outputId": "107b267e-ef7a-4636-96c6-9408cf7879f6"
      },
      "source": [
        "!cd \n",
        "!pwd\n",
        "%cd /content/WMmail/\n",
        "!pwd\n",
        "!python analiz_and_sort.py \\\n",
        "--model output/smallvggnet.model \\\n",
        "--label-bin output/smallvggnet_lb.pickle "
      ],
      "execution_count": 11,
      "outputs": [
        {
          "output_type": "stream",
          "text": [
            "/content\n",
            "/content/WMmail\n",
            "/content/WMmail\n",
            "2021-06-17 20:25:57.479368: I tensorflow/stream_executor/platform/default/dso_loader.cc:53] Successfully opened dynamic library libcudart.so.11.0\n",
            "13675.png\n",
            "[INFO] loading network and label binarizer...\n",
            "2021-06-17 20:25:59.259513: I tensorflow/stream_executor/platform/default/dso_loader.cc:53] Successfully opened dynamic library libcuda.so.1\n",
            "2021-06-17 20:25:59.270698: E tensorflow/stream_executor/cuda/cuda_driver.cc:328] failed call to cuInit: CUDA_ERROR_NO_DEVICE: no CUDA-capable device is detected\n",
            "2021-06-17 20:25:59.270764: I tensorflow/stream_executor/cuda/cuda_diagnostics.cc:156] kernel driver does not appear to be running on this host (55c067be31c0): /proc/driver/nvidia/version does not exist\n",
            "/usr/local/lib/python3.7/dist-packages/sklearn/base.py:318: UserWarning: Trying to unpickle estimator LabelBinarizer from version 0.24.0 when using version 0.22.2.post1. This might lead to breaking code or invalid results. Use at your own risk.\n",
            "  UserWarning)\n",
            "2021-06-17 20:26:01.492569: I tensorflow/compiler/mlir/mlir_graph_optimization_pass.cc:176] None of the MLIR Optimization Passes are enabled (registered 2)\n",
            "2021-06-17 20:26:01.493129: I tensorflow/core/platform/profile_utils/cpu_utils.cc:114] CPU Frequency: 2199995000 Hz\n",
            "3: 99.13%\n",
            "Traceback (most recent call last):\n",
            "  File \"analiz_and_sort.py\", line 114, in <module>\n",
            "    resized_img.save(result_file)\n",
            "  File \"/usr/local/lib/python3.7/dist-packages/PIL/Image.py\", line 2131, in save\n",
            "    fp = builtins.open(filename, \"w+b\")\n",
            "FileNotFoundError: [Errno 2] No such file or directory: 'C/content/WMmail/result_analiz/3/1.png'\n"
          ],
          "name": "stdout"
        }
      ]
    }
  ]
}